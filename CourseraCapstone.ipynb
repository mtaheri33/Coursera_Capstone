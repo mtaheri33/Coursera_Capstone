{
 "cells": [
  {
   "cell_type": "markdown",
   "metadata": {},
   "source": [
    "### This notebook is for the Coursera IBM Data Science capstone project"
   ]
  },
  {
   "cell_type": "code",
   "execution_count": 3,
   "metadata": {},
   "outputs": [
    {
     "name": "stdout",
     "output_type": "stream",
     "text": [
      "Hello Capstone Project Course!\n"
     ]
    }
   ],
   "source": [
    "print('Hello Capstone Project Course!')"
   ]
  },
  {
   "cell_type": "markdown",
   "metadata": {},
   "source": [
    "# Week 1"
   ]
  },
  {
   "cell_type": "markdown",
   "metadata": {},
   "source": [
    "The problem is Seattle has car accidents that can be prevented.  Accidents happen at all times, but if the main causes of accidents are determined, advance warning or mitigating methods can be performed.  For example, certain intersections may be more susceptible to accidents due to heavy usage or the way they are constructed.  As a result, better street lights can be added (only protected left and right turns) or traffic personnel can be used to direct the cars.  If it is determined that accidents occur the majority of a time a driver is speeding, has a high blood alcohol level, or was not paying attention, the data can be used as evidence for enacting harsher laws and regulations.  In addition, the data can be advertised to the public to show them the consequences of driving under these conditions.  This will hopefully dissuade people in the future.  Finally, there are also uncontrollable factors such as weather and road conditions.  If certain patterns are discovered to cause many accidents, local government can know when to send alerts to the public to drive more cautiously or even avoid the roads entirely.\n",
    "\n",
    "The target audience of this analysis is the Seattle government and transportation department.  It should identify key causes of accidents and allow them to identify trends for when accidents can be prevented.  This will reduce the number of accidents and injuries for the city. \n",
    "\n",
    "The data comes from collision and accident reports in Seattle during the years 2004-present.  It was collected by the Seattle Police Department and Traffic Records department.  The data will be used to identify the key variables that cause accidents.  For example, the \"WEATHER\" column can be used to show the types and number of accidents that occur for different categories.  In addition, the \"INTKEY\" column can be grouped and the sum of the accidents in that intersection can be calculated.  This list can be sorted descending to identify the more dangerous intersections that need improvements or closer monitoring.  Finally, a supervised learning model will be used to come up with a formula that can predict the severity of an accident based on the inputs.\n",
    "The data has 37 independent variables and 194,673 records.  The dependent variable, \"SEVERITYCODE\", has numbers that correspond to different levels of severity caused by the accident.  Many of the columns are object types.  In addition, other columns that appear to be integer types are also actually objects, because the numbers correspond to different categories.  Finally, some columns and rows have null values, which will be dealt with during the data pre-processing phase."
   ]
  },
  {
   "cell_type": "markdown",
   "metadata": {},
   "source": [
    "# Week 2"
   ]
  },
  {
   "cell_type": "code",
   "execution_count": 32,
   "metadata": {},
   "outputs": [],
   "source": [
    "import numpy as np\n",
    "import pandas as pd\n",
    "import seaborn as sns\n",
    "import matplotlib.pyplot as plt\n",
    "pd.set_option('display.max_columns', None)"
   ]
  },
  {
   "cell_type": "code",
   "execution_count": 145,
   "metadata": {},
   "outputs": [],
   "source": [
    "df=pd.read_csv('https://s3.us.cloud-object-storage.appdomain.cloud/cf-courses-data/CognitiveClass/DP0701EN/version-2/Data-Collisions.csv',dtype={'ST_COLCODE':str})"
   ]
  },
  {
   "cell_type": "code",
   "execution_count": 148,
   "metadata": {},
   "outputs": [],
   "source": [
    "df.columns=[x.lower() for x in df.columns]"
   ]
  },
  {
   "cell_type": "code",
   "execution_count": 149,
   "metadata": {},
   "outputs": [],
   "source": [
    "df.drop(['exceptrsncode','exceptrsndesc','severitycode.1',],axis=1,inplace=True)"
   ]
  },
  {
   "cell_type": "code",
   "execution_count": 150,
   "metadata": {},
   "outputs": [
    {
     "data": {
      "text/html": [
       "<div>\n",
       "<style scoped>\n",
       "    .dataframe tbody tr th:only-of-type {\n",
       "        vertical-align: middle;\n",
       "    }\n",
       "\n",
       "    .dataframe tbody tr th {\n",
       "        vertical-align: top;\n",
       "    }\n",
       "\n",
       "    .dataframe thead th {\n",
       "        text-align: right;\n",
       "    }\n",
       "</style>\n",
       "<table border=\"1\" class=\"dataframe\">\n",
       "  <thead>\n",
       "    <tr style=\"text-align: right;\">\n",
       "      <th></th>\n",
       "      <th>severitycode</th>\n",
       "      <th>x</th>\n",
       "      <th>y</th>\n",
       "      <th>objectid</th>\n",
       "      <th>inckey</th>\n",
       "      <th>coldetkey</th>\n",
       "      <th>reportno</th>\n",
       "      <th>status</th>\n",
       "      <th>addrtype</th>\n",
       "      <th>intkey</th>\n",
       "      <th>location</th>\n",
       "      <th>severitydesc</th>\n",
       "      <th>collisiontype</th>\n",
       "      <th>personcount</th>\n",
       "      <th>pedcount</th>\n",
       "      <th>pedcylcount</th>\n",
       "      <th>vehcount</th>\n",
       "      <th>incdate</th>\n",
       "      <th>incdttm</th>\n",
       "      <th>junctiontype</th>\n",
       "      <th>sdot_colcode</th>\n",
       "      <th>sdot_coldesc</th>\n",
       "      <th>inattentionind</th>\n",
       "      <th>underinfl</th>\n",
       "      <th>weather</th>\n",
       "      <th>roadcond</th>\n",
       "      <th>lightcond</th>\n",
       "      <th>pedrownotgrnt</th>\n",
       "      <th>sdotcolnum</th>\n",
       "      <th>speeding</th>\n",
       "      <th>st_colcode</th>\n",
       "      <th>st_coldesc</th>\n",
       "      <th>seglanekey</th>\n",
       "      <th>crosswalkkey</th>\n",
       "      <th>hitparkedcar</th>\n",
       "    </tr>\n",
       "  </thead>\n",
       "  <tbody>\n",
       "    <tr>\n",
       "      <th>0</th>\n",
       "      <td>2</td>\n",
       "      <td>-122.323148</td>\n",
       "      <td>47.703140</td>\n",
       "      <td>1</td>\n",
       "      <td>1307</td>\n",
       "      <td>1307</td>\n",
       "      <td>3502005</td>\n",
       "      <td>Matched</td>\n",
       "      <td>Intersection</td>\n",
       "      <td>37475.0</td>\n",
       "      <td>5TH AVE NE AND NE 103RD ST</td>\n",
       "      <td>Injury Collision</td>\n",
       "      <td>Angles</td>\n",
       "      <td>2</td>\n",
       "      <td>0</td>\n",
       "      <td>0</td>\n",
       "      <td>2</td>\n",
       "      <td>2013/03/27 00:00:00+00</td>\n",
       "      <td>3/27/2013 2:54:00 PM</td>\n",
       "      <td>At Intersection (intersection related)</td>\n",
       "      <td>11</td>\n",
       "      <td>MOTOR VEHICLE STRUCK MOTOR VEHICLE, FRONT END ...</td>\n",
       "      <td>NaN</td>\n",
       "      <td>N</td>\n",
       "      <td>Overcast</td>\n",
       "      <td>Wet</td>\n",
       "      <td>Daylight</td>\n",
       "      <td>NaN</td>\n",
       "      <td>NaN</td>\n",
       "      <td>NaN</td>\n",
       "      <td>10</td>\n",
       "      <td>Entering at angle</td>\n",
       "      <td>0</td>\n",
       "      <td>0</td>\n",
       "      <td>N</td>\n",
       "    </tr>\n",
       "    <tr>\n",
       "      <th>1</th>\n",
       "      <td>1</td>\n",
       "      <td>-122.347294</td>\n",
       "      <td>47.647172</td>\n",
       "      <td>2</td>\n",
       "      <td>52200</td>\n",
       "      <td>52200</td>\n",
       "      <td>2607959</td>\n",
       "      <td>Matched</td>\n",
       "      <td>Block</td>\n",
       "      <td>NaN</td>\n",
       "      <td>AURORA BR BETWEEN RAYE ST AND BRIDGE WAY N</td>\n",
       "      <td>Property Damage Only Collision</td>\n",
       "      <td>Sideswipe</td>\n",
       "      <td>2</td>\n",
       "      <td>0</td>\n",
       "      <td>0</td>\n",
       "      <td>2</td>\n",
       "      <td>2006/12/20 00:00:00+00</td>\n",
       "      <td>12/20/2006 6:55:00 PM</td>\n",
       "      <td>Mid-Block (not related to intersection)</td>\n",
       "      <td>16</td>\n",
       "      <td>MOTOR VEHICLE STRUCK MOTOR VEHICLE, LEFT SIDE ...</td>\n",
       "      <td>NaN</td>\n",
       "      <td>0</td>\n",
       "      <td>Raining</td>\n",
       "      <td>Wet</td>\n",
       "      <td>Dark - Street Lights On</td>\n",
       "      <td>NaN</td>\n",
       "      <td>6354039.0</td>\n",
       "      <td>NaN</td>\n",
       "      <td>11</td>\n",
       "      <td>From same direction - both going straight - bo...</td>\n",
       "      <td>0</td>\n",
       "      <td>0</td>\n",
       "      <td>N</td>\n",
       "    </tr>\n",
       "    <tr>\n",
       "      <th>2</th>\n",
       "      <td>1</td>\n",
       "      <td>-122.334540</td>\n",
       "      <td>47.607871</td>\n",
       "      <td>3</td>\n",
       "      <td>26700</td>\n",
       "      <td>26700</td>\n",
       "      <td>1482393</td>\n",
       "      <td>Matched</td>\n",
       "      <td>Block</td>\n",
       "      <td>NaN</td>\n",
       "      <td>4TH AVE BETWEEN SENECA ST AND UNIVERSITY ST</td>\n",
       "      <td>Property Damage Only Collision</td>\n",
       "      <td>Parked Car</td>\n",
       "      <td>4</td>\n",
       "      <td>0</td>\n",
       "      <td>0</td>\n",
       "      <td>3</td>\n",
       "      <td>2004/11/18 00:00:00+00</td>\n",
       "      <td>11/18/2004 10:20:00 AM</td>\n",
       "      <td>Mid-Block (not related to intersection)</td>\n",
       "      <td>14</td>\n",
       "      <td>MOTOR VEHICLE STRUCK MOTOR VEHICLE, REAR END</td>\n",
       "      <td>NaN</td>\n",
       "      <td>0</td>\n",
       "      <td>Overcast</td>\n",
       "      <td>Dry</td>\n",
       "      <td>Daylight</td>\n",
       "      <td>NaN</td>\n",
       "      <td>4323031.0</td>\n",
       "      <td>NaN</td>\n",
       "      <td>32</td>\n",
       "      <td>One parked--one moving</td>\n",
       "      <td>0</td>\n",
       "      <td>0</td>\n",
       "      <td>N</td>\n",
       "    </tr>\n",
       "    <tr>\n",
       "      <th>3</th>\n",
       "      <td>1</td>\n",
       "      <td>-122.334803</td>\n",
       "      <td>47.604803</td>\n",
       "      <td>4</td>\n",
       "      <td>1144</td>\n",
       "      <td>1144</td>\n",
       "      <td>3503937</td>\n",
       "      <td>Matched</td>\n",
       "      <td>Block</td>\n",
       "      <td>NaN</td>\n",
       "      <td>2ND AVE BETWEEN MARION ST AND MADISON ST</td>\n",
       "      <td>Property Damage Only Collision</td>\n",
       "      <td>Other</td>\n",
       "      <td>3</td>\n",
       "      <td>0</td>\n",
       "      <td>0</td>\n",
       "      <td>3</td>\n",
       "      <td>2013/03/29 00:00:00+00</td>\n",
       "      <td>3/29/2013 9:26:00 AM</td>\n",
       "      <td>Mid-Block (not related to intersection)</td>\n",
       "      <td>11</td>\n",
       "      <td>MOTOR VEHICLE STRUCK MOTOR VEHICLE, FRONT END ...</td>\n",
       "      <td>NaN</td>\n",
       "      <td>N</td>\n",
       "      <td>Clear</td>\n",
       "      <td>Dry</td>\n",
       "      <td>Daylight</td>\n",
       "      <td>NaN</td>\n",
       "      <td>NaN</td>\n",
       "      <td>NaN</td>\n",
       "      <td>23</td>\n",
       "      <td>From same direction - all others</td>\n",
       "      <td>0</td>\n",
       "      <td>0</td>\n",
       "      <td>N</td>\n",
       "    </tr>\n",
       "    <tr>\n",
       "      <th>4</th>\n",
       "      <td>2</td>\n",
       "      <td>-122.306426</td>\n",
       "      <td>47.545739</td>\n",
       "      <td>5</td>\n",
       "      <td>17700</td>\n",
       "      <td>17700</td>\n",
       "      <td>1807429</td>\n",
       "      <td>Matched</td>\n",
       "      <td>Intersection</td>\n",
       "      <td>34387.0</td>\n",
       "      <td>SWIFT AVE S AND SWIFT AV OFF RP</td>\n",
       "      <td>Injury Collision</td>\n",
       "      <td>Angles</td>\n",
       "      <td>2</td>\n",
       "      <td>0</td>\n",
       "      <td>0</td>\n",
       "      <td>2</td>\n",
       "      <td>2004/01/28 00:00:00+00</td>\n",
       "      <td>1/28/2004 8:04:00 AM</td>\n",
       "      <td>At Intersection (intersection related)</td>\n",
       "      <td>11</td>\n",
       "      <td>MOTOR VEHICLE STRUCK MOTOR VEHICLE, FRONT END ...</td>\n",
       "      <td>NaN</td>\n",
       "      <td>0</td>\n",
       "      <td>Raining</td>\n",
       "      <td>Wet</td>\n",
       "      <td>Daylight</td>\n",
       "      <td>NaN</td>\n",
       "      <td>4028032.0</td>\n",
       "      <td>NaN</td>\n",
       "      <td>10</td>\n",
       "      <td>Entering at angle</td>\n",
       "      <td>0</td>\n",
       "      <td>0</td>\n",
       "      <td>N</td>\n",
       "    </tr>\n",
       "  </tbody>\n",
       "</table>\n",
       "</div>"
      ],
      "text/plain": [
       "   severitycode           x          y  objectid  inckey  coldetkey reportno  \\\n",
       "0             2 -122.323148  47.703140         1    1307       1307  3502005   \n",
       "1             1 -122.347294  47.647172         2   52200      52200  2607959   \n",
       "2             1 -122.334540  47.607871         3   26700      26700  1482393   \n",
       "3             1 -122.334803  47.604803         4    1144       1144  3503937   \n",
       "4             2 -122.306426  47.545739         5   17700      17700  1807429   \n",
       "\n",
       "    status      addrtype   intkey  \\\n",
       "0  Matched  Intersection  37475.0   \n",
       "1  Matched         Block      NaN   \n",
       "2  Matched         Block      NaN   \n",
       "3  Matched         Block      NaN   \n",
       "4  Matched  Intersection  34387.0   \n",
       "\n",
       "                                      location  \\\n",
       "0                   5TH AVE NE AND NE 103RD ST   \n",
       "1   AURORA BR BETWEEN RAYE ST AND BRIDGE WAY N   \n",
       "2  4TH AVE BETWEEN SENECA ST AND UNIVERSITY ST   \n",
       "3     2ND AVE BETWEEN MARION ST AND MADISON ST   \n",
       "4              SWIFT AVE S AND SWIFT AV OFF RP   \n",
       "\n",
       "                     severitydesc collisiontype  personcount  pedcount  \\\n",
       "0                Injury Collision        Angles            2         0   \n",
       "1  Property Damage Only Collision     Sideswipe            2         0   \n",
       "2  Property Damage Only Collision    Parked Car            4         0   \n",
       "3  Property Damage Only Collision         Other            3         0   \n",
       "4                Injury Collision        Angles            2         0   \n",
       "\n",
       "   pedcylcount  vehcount                 incdate                 incdttm  \\\n",
       "0            0         2  2013/03/27 00:00:00+00    3/27/2013 2:54:00 PM   \n",
       "1            0         2  2006/12/20 00:00:00+00   12/20/2006 6:55:00 PM   \n",
       "2            0         3  2004/11/18 00:00:00+00  11/18/2004 10:20:00 AM   \n",
       "3            0         3  2013/03/29 00:00:00+00    3/29/2013 9:26:00 AM   \n",
       "4            0         2  2004/01/28 00:00:00+00    1/28/2004 8:04:00 AM   \n",
       "\n",
       "                              junctiontype  sdot_colcode  \\\n",
       "0   At Intersection (intersection related)            11   \n",
       "1  Mid-Block (not related to intersection)            16   \n",
       "2  Mid-Block (not related to intersection)            14   \n",
       "3  Mid-Block (not related to intersection)            11   \n",
       "4   At Intersection (intersection related)            11   \n",
       "\n",
       "                                        sdot_coldesc inattentionind underinfl  \\\n",
       "0  MOTOR VEHICLE STRUCK MOTOR VEHICLE, FRONT END ...            NaN         N   \n",
       "1  MOTOR VEHICLE STRUCK MOTOR VEHICLE, LEFT SIDE ...            NaN         0   \n",
       "2       MOTOR VEHICLE STRUCK MOTOR VEHICLE, REAR END            NaN         0   \n",
       "3  MOTOR VEHICLE STRUCK MOTOR VEHICLE, FRONT END ...            NaN         N   \n",
       "4  MOTOR VEHICLE STRUCK MOTOR VEHICLE, FRONT END ...            NaN         0   \n",
       "\n",
       "    weather roadcond                lightcond pedrownotgrnt  sdotcolnum  \\\n",
       "0  Overcast      Wet                 Daylight           NaN         NaN   \n",
       "1   Raining      Wet  Dark - Street Lights On           NaN   6354039.0   \n",
       "2  Overcast      Dry                 Daylight           NaN   4323031.0   \n",
       "3     Clear      Dry                 Daylight           NaN         NaN   \n",
       "4   Raining      Wet                 Daylight           NaN   4028032.0   \n",
       "\n",
       "  speeding st_colcode                                         st_coldesc  \\\n",
       "0      NaN         10                                  Entering at angle   \n",
       "1      NaN         11  From same direction - both going straight - bo...   \n",
       "2      NaN         32                             One parked--one moving   \n",
       "3      NaN         23                   From same direction - all others   \n",
       "4      NaN         10                                  Entering at angle   \n",
       "\n",
       "   seglanekey  crosswalkkey hitparkedcar  \n",
       "0           0             0            N  \n",
       "1           0             0            N  \n",
       "2           0             0            N  \n",
       "3           0             0            N  \n",
       "4           0             0            N  "
      ]
     },
     "execution_count": 150,
     "metadata": {},
     "output_type": "execute_result"
    }
   ],
   "source": [
    "df.head()"
   ]
  },
  {
   "cell_type": "code",
   "execution_count": 151,
   "metadata": {},
   "outputs": [
    {
     "name": "stdout",
     "output_type": "stream",
     "text": [
      "<class 'pandas.core.frame.DataFrame'>\n",
      "RangeIndex: 194673 entries, 0 to 194672\n",
      "Data columns (total 35 columns):\n",
      " #   Column          Non-Null Count   Dtype  \n",
      "---  ------          --------------   -----  \n",
      " 0   severitycode    194673 non-null  int64  \n",
      " 1   x               189339 non-null  float64\n",
      " 2   y               189339 non-null  float64\n",
      " 3   objectid        194673 non-null  int64  \n",
      " 4   inckey          194673 non-null  int64  \n",
      " 5   coldetkey       194673 non-null  int64  \n",
      " 6   reportno        194673 non-null  object \n",
      " 7   status          194673 non-null  object \n",
      " 8   addrtype        192747 non-null  object \n",
      " 9   intkey          65070 non-null   float64\n",
      " 10  location        191996 non-null  object \n",
      " 11  severitydesc    194673 non-null  object \n",
      " 12  collisiontype   189769 non-null  object \n",
      " 13  personcount     194673 non-null  int64  \n",
      " 14  pedcount        194673 non-null  int64  \n",
      " 15  pedcylcount     194673 non-null  int64  \n",
      " 16  vehcount        194673 non-null  int64  \n",
      " 17  incdate         194673 non-null  object \n",
      " 18  incdttm         194673 non-null  object \n",
      " 19  junctiontype    188344 non-null  object \n",
      " 20  sdot_colcode    194673 non-null  int64  \n",
      " 21  sdot_coldesc    194673 non-null  object \n",
      " 22  inattentionind  29805 non-null   object \n",
      " 23  underinfl       189789 non-null  object \n",
      " 24  weather         189592 non-null  object \n",
      " 25  roadcond        189661 non-null  object \n",
      " 26  lightcond       189503 non-null  object \n",
      " 27  pedrownotgrnt   4667 non-null    object \n",
      " 28  sdotcolnum      114936 non-null  float64\n",
      " 29  speeding        9333 non-null    object \n",
      " 30  st_colcode      194655 non-null  object \n",
      " 31  st_coldesc      189769 non-null  object \n",
      " 32  seglanekey      194673 non-null  int64  \n",
      " 33  crosswalkkey    194673 non-null  int64  \n",
      " 34  hitparkedcar    194673 non-null  object \n",
      "dtypes: float64(4), int64(11), object(20)\n",
      "memory usage: 52.0+ MB\n"
     ]
    }
   ],
   "source": [
    "df.info()"
   ]
  },
  {
   "cell_type": "code",
   "execution_count": 152,
   "metadata": {},
   "outputs": [
    {
     "data": {
      "text/plain": [
       "Index(['intkey', 'inattentionind', 'pedrownotgrnt', 'sdotcolnum', 'speeding'], dtype='object')"
      ]
     },
     "execution_count": 152,
     "metadata": {},
     "output_type": "execute_result"
    }
   ],
   "source": [
    "df.columns[df.isnull().sum()>79000]"
   ]
  },
  {
   "cell_type": "code",
   "execution_count": 153,
   "metadata": {},
   "outputs": [],
   "source": [
    "df.drop(['inattentionind', 'pedrownotgrnt', 'sdotcolnum', 'speeding'],axis=1,inplace=True)"
   ]
  },
  {
   "cell_type": "code",
   "execution_count": 154,
   "metadata": {},
   "outputs": [],
   "source": [
    "dfwithint=df.copy()\n",
    "df.drop('intkey',axis=1,inplace=True)"
   ]
  },
  {
   "cell_type": "code",
   "execution_count": 155,
   "metadata": {},
   "outputs": [
    {
     "data": {
      "text/html": [
       "<div>\n",
       "<style scoped>\n",
       "    .dataframe tbody tr th:only-of-type {\n",
       "        vertical-align: middle;\n",
       "    }\n",
       "\n",
       "    .dataframe tbody tr th {\n",
       "        vertical-align: top;\n",
       "    }\n",
       "\n",
       "    .dataframe thead th {\n",
       "        text-align: right;\n",
       "    }\n",
       "</style>\n",
       "<table border=\"1\" class=\"dataframe\">\n",
       "  <thead>\n",
       "    <tr style=\"text-align: right;\">\n",
       "      <th></th>\n",
       "      <th>Intersection</th>\n",
       "      <th># of accidents</th>\n",
       "    </tr>\n",
       "  </thead>\n",
       "  <tbody>\n",
       "    <tr>\n",
       "      <th>0</th>\n",
       "      <td>29973.0</td>\n",
       "      <td>252</td>\n",
       "    </tr>\n",
       "    <tr>\n",
       "      <th>1</th>\n",
       "      <td>29933.0</td>\n",
       "      <td>160</td>\n",
       "    </tr>\n",
       "    <tr>\n",
       "      <th>2</th>\n",
       "      <td>29913.0</td>\n",
       "      <td>138</td>\n",
       "    </tr>\n",
       "    <tr>\n",
       "      <th>3</th>\n",
       "      <td>29549.0</td>\n",
       "      <td>136</td>\n",
       "    </tr>\n",
       "    <tr>\n",
       "      <th>4</th>\n",
       "      <td>33512.0</td>\n",
       "      <td>128</td>\n",
       "    </tr>\n",
       "    <tr>\n",
       "      <th>...</th>\n",
       "      <td>...</td>\n",
       "      <td>...</td>\n",
       "    </tr>\n",
       "    <tr>\n",
       "      <th>7609</th>\n",
       "      <td>36825.0</td>\n",
       "      <td>1</td>\n",
       "    </tr>\n",
       "    <tr>\n",
       "      <th>7610</th>\n",
       "      <td>26604.0</td>\n",
       "      <td>1</td>\n",
       "    </tr>\n",
       "    <tr>\n",
       "      <th>7611</th>\n",
       "      <td>26603.0</td>\n",
       "      <td>1</td>\n",
       "    </tr>\n",
       "    <tr>\n",
       "      <th>7612</th>\n",
       "      <td>36816.0</td>\n",
       "      <td>1</td>\n",
       "    </tr>\n",
       "    <tr>\n",
       "      <th>7613</th>\n",
       "      <td>27793.0</td>\n",
       "      <td>1</td>\n",
       "    </tr>\n",
       "  </tbody>\n",
       "</table>\n",
       "<p>7614 rows × 2 columns</p>\n",
       "</div>"
      ],
      "text/plain": [
       "      Intersection  # of accidents\n",
       "0          29973.0             252\n",
       "1          29933.0             160\n",
       "2          29913.0             138\n",
       "3          29549.0             136\n",
       "4          33512.0             128\n",
       "...            ...             ...\n",
       "7609       36825.0               1\n",
       "7610       26604.0               1\n",
       "7611       26603.0               1\n",
       "7612       36816.0               1\n",
       "7613       27793.0               1\n",
       "\n",
       "[7614 rows x 2 columns]"
      ]
     },
     "execution_count": 155,
     "metadata": {},
     "output_type": "execute_result"
    }
   ],
   "source": [
    "ser=dfwithint['intkey'].value_counts()\n",
    "dfint=ser.to_frame()\n",
    "dfint.reset_index(inplace=True)\n",
    "dfint.columns=['Intersection',\"# of accidents\"]\n",
    "dfint"
   ]
  },
  {
   "cell_type": "code",
   "execution_count": 156,
   "metadata": {},
   "outputs": [
    {
     "data": {
      "text/plain": [
       "Index(['severitycode', 'x', 'y', 'objectid', 'inckey', 'coldetkey', 'reportno',\n",
       "       'status', 'addrtype', 'location', 'severitydesc', 'collisiontype',\n",
       "       'personcount', 'pedcount', 'pedcylcount', 'vehcount', 'incdate',\n",
       "       'incdttm', 'junctiontype', 'sdot_colcode', 'sdot_coldesc', 'underinfl',\n",
       "       'weather', 'roadcond', 'lightcond', 'st_colcode', 'st_coldesc',\n",
       "       'seglanekey', 'crosswalkkey', 'hitparkedcar'],\n",
       "      dtype='object')"
      ]
     },
     "execution_count": 156,
     "metadata": {},
     "output_type": "execute_result"
    }
   ],
   "source": [
    "df.columns"
   ]
  },
  {
   "cell_type": "code",
   "execution_count": 157,
   "metadata": {},
   "outputs": [],
   "source": [
    "df['hitparkedcar']=pd.get_dummies(df['hitparkedcar'])['Y']"
   ]
  },
  {
   "cell_type": "code",
   "execution_count": 182,
   "metadata": {},
   "outputs": [],
   "source": [
    "df['underinfl'].replace({'N':int(0),'Y':int(1),'0':int(0),'1':int(1)},inplace=True)"
   ]
  },
  {
   "cell_type": "code",
   "execution_count": 175,
   "metadata": {},
   "outputs": [],
   "source": [
    "x=['severitycode','addrtype','collisiontype',\n",
    "       'personcount', 'pedcount', 'pedcylcount', 'vehcount', 'junctiontype', 'sdot_colcode', 'sdot_coldesc', 'underinfl',\n",
    "       'weather', 'roadcond', 'lightcond', 'st_colcode',\n",
    "       'seglanekey', 'crosswalkkey', 'hitparkedcar']"
   ]
  },
  {
   "cell_type": "code",
   "execution_count": 183,
   "metadata": {},
   "outputs": [
    {
     "name": "stdout",
     "output_type": "stream",
     "text": [
      "1    136485\n",
      "2     58188\n",
      "Name: severitycode, dtype: int64\n",
      "\n",
      "Block           126926\n",
      "Intersection     65070\n",
      "Alley              751\n",
      "Name: addrtype, dtype: int64\n",
      "\n",
      "Parked Car    47987\n",
      "Angles        34674\n",
      "Rear Ended    34090\n",
      "Other         23703\n",
      "Sideswipe     18609\n",
      "Left Turn     13703\n",
      "Pedestrian     6608\n",
      "Cycles         5415\n",
      "Right Turn     2956\n",
      "Head On        2024\n",
      "Name: collisiontype, dtype: int64\n",
      "\n",
      "2     114231\n",
      "3      35553\n",
      "4      14660\n",
      "1      13154\n",
      "5       6584\n",
      "0       5544\n",
      "6       2702\n",
      "7       1131\n",
      "8        533\n",
      "9        216\n",
      "10       128\n",
      "11        56\n",
      "12        33\n",
      "13        21\n",
      "14        19\n",
      "15        11\n",
      "17        11\n",
      "16         8\n",
      "44         6\n",
      "18         6\n",
      "20         6\n",
      "25         6\n",
      "19         5\n",
      "26         4\n",
      "22         4\n",
      "27         3\n",
      "28         3\n",
      "29         3\n",
      "47         3\n",
      "32         3\n",
      "34         3\n",
      "37         3\n",
      "23         2\n",
      "21         2\n",
      "24         2\n",
      "30         2\n",
      "36         2\n",
      "57         1\n",
      "31         1\n",
      "35         1\n",
      "39         1\n",
      "41         1\n",
      "43         1\n",
      "48         1\n",
      "53         1\n",
      "54         1\n",
      "81         1\n",
      "Name: personcount, dtype: int64\n",
      "\n",
      "0    187734\n",
      "1      6685\n",
      "2       226\n",
      "3        22\n",
      "4         4\n",
      "6         1\n",
      "5         1\n",
      "Name: pedcount, dtype: int64\n",
      "\n",
      "0    189189\n",
      "1      5441\n",
      "2        43\n",
      "Name: pedcylcount, dtype: int64\n",
      "\n",
      "2     147650\n",
      "1      25748\n",
      "3      13010\n",
      "0       5085\n",
      "4       2426\n",
      "5        529\n",
      "6        146\n",
      "7         46\n",
      "8         15\n",
      "9          9\n",
      "11         6\n",
      "10         2\n",
      "12         1\n",
      "Name: vehcount, dtype: int64\n",
      "\n",
      "Mid-Block (not related to intersection)              89800\n",
      "At Intersection (intersection related)               62810\n",
      "Mid-Block (but intersection related)                 22790\n",
      "Driveway Junction                                    10671\n",
      "At Intersection (but not related to intersection)     2098\n",
      "Ramp Junction                                          166\n",
      "Unknown                                                  9\n",
      "Name: junctiontype, dtype: int64\n",
      "\n",
      "11    85209\n",
      "14    54299\n",
      "16     9928\n",
      "0      9787\n",
      "28     8856\n",
      "24     6518\n",
      "13     5852\n",
      "26     4741\n",
      "18     3104\n",
      "15     1604\n",
      "12     1440\n",
      "51     1312\n",
      "29      479\n",
      "21      181\n",
      "56      180\n",
      "27      166\n",
      "54      139\n",
      "23      124\n",
      "48      107\n",
      "31      104\n",
      "25      102\n",
      "34       93\n",
      "64       75\n",
      "69       69\n",
      "33       53\n",
      "55       50\n",
      "66       23\n",
      "22       17\n",
      "32       12\n",
      "53        9\n",
      "44        8\n",
      "61        7\n",
      "35        6\n",
      "58        5\n",
      "68        4\n",
      "36        4\n",
      "46        3\n",
      "52        2\n",
      "47        1\n",
      "Name: sdot_colcode, dtype: int64\n",
      "\n",
      "MOTOR VEHICLE STRUCK MOTOR VEHICLE, FRONT END AT ANGLE          85209\n",
      "MOTOR VEHICLE STRUCK MOTOR VEHICLE, REAR END                    54299\n",
      "MOTOR VEHICLE STRUCK MOTOR VEHICLE, LEFT SIDE SIDESWIPE          9928\n",
      "NOT ENOUGH INFORMATION / NOT APPLICABLE                          9787\n",
      "MOTOR VEHICLE RAN OFF ROAD - HIT FIXED OBJECT                    8856\n",
      "MOTOR VEHCILE STRUCK PEDESTRIAN                                  6518\n",
      "MOTOR VEHICLE STRUCK MOTOR VEHICLE, LEFT SIDE AT ANGLE           5852\n",
      "MOTOR VEHICLE STRUCK OBJECT IN ROAD                              4741\n",
      "MOTOR VEHICLE STRUCK PEDALCYCLIST, FRONT END AT ANGLE            3104\n",
      "MOTOR VEHICLE STRUCK MOTOR VEHICLE, RIGHT SIDE SIDESWIPE         1604\n",
      "MOTOR VEHICLE STRUCK MOTOR VEHICLE, RIGHT SIDE AT ANGLE          1440\n",
      "PEDALCYCLIST STRUCK MOTOR VEHICLE FRONT END AT ANGLE             1312\n",
      "MOTOR VEHICLE OVERTURNED IN ROAD                                  479\n",
      "MOTOR VEHICLE STRUCK PEDALCYCLIST, REAR END                       181\n",
      "PEDALCYCLIST STRUCK MOTOR VEHICLE LEFT SIDE SIDESWIPE             180\n",
      "MOTOR VEHICLE RAN OFF ROAD - NO COLLISION                         166\n",
      "PEDALCYCLIST STRUCK MOTOR VEHICLE REAR END                        139\n",
      "MOTOR VEHICLE STRUCK PEDALCYCLIST, LEFT SIDE SIDESWIPE            124\n",
      "DRIVERLESS VEHICLE RAN OFF ROAD - HIT FIXED OBJECT                107\n",
      "DRIVERLESS VEHICLE STRUCK MOTOR VEHICLE FRONT END AT ANGLE        104\n",
      "MOTOR VEHICLE STRUCK TRAIN                                        102\n",
      "DRIVERLESS VEHICLE STRUCK MOTOR VEHICLE REAR END                   93\n",
      "PEDALCYCLIST STRUCK PEDESTRIAN                                     75\n",
      "PEDALCYCLIST OVERTURNED IN ROAD                                    69\n",
      "DRIVERLESS VEHICLE STRUCK MOTOR VEHICLE LEFT SIDE AT ANGLE         53\n",
      "PEDALCYCLIST STRUCK MOTOR VEHICLE RIGHT SIDE SIDESWIPE             50\n",
      "PEDALCYCLIST STRUCK OBJECT IN ROAD                                 23\n",
      "MOTOR VEHICLE STRUCK PEDALCYCLIST, RIGHT SIDE SIDESWIPE            17\n",
      "DRIVERLESS VEHICLE STRUCK MOTOR VEHICLE RIGHT SIDE AT ANGLE        12\n",
      "PEDALCYCLIST STRUCK MOTOR VEHICLE LEFT SIDE AT ANGLE                9\n",
      "DRIVERLESS VEHICLE STRUCK PEDESTRIAN                                8\n",
      "PEDALCYCLIST STRUCK PEDALCYCLIST REAR END                           7\n",
      "DRIVERLESS VEHICLE STRUCK MOTOR VEHICLE RIGHT SIDE SIDESWIPE        6\n",
      "PEDALCYCLIST STRUCK PEDALCYCLIST FRONT END AT ANGLE                 5\n",
      "DRIVERLESS VEHICLE STRUCK MOTOR VEHICLE LEFT SIDE SIDESWIPE         4\n",
      "PEDALCYCLIST RAN OFF ROAD - HIT FIXED OBJECT                        4\n",
      "DRIVERLESS VEHICLE STRUCK OBJECT IN ROADWAY                         3\n",
      "PEDALCYCLIST STRUCK MOTOR VEHICLE RIGHT SIDE AT ANGLE               2\n",
      "DRIVERLESS VEHICLE RAN OFF ROAD - NO COLLISION                      1\n",
      "Name: sdot_coldesc, dtype: int64\n",
      "\n",
      "0.0    180668\n",
      "1.0      9121\n",
      "Name: underinfl, dtype: int64\n",
      "\n",
      "Clear                       111135\n",
      "Raining                      33145\n",
      "Overcast                     27714\n",
      "Unknown                      15091\n",
      "Snowing                        907\n",
      "Other                          832\n",
      "Fog/Smog/Smoke                 569\n",
      "Sleet/Hail/Freezing Rain       113\n",
      "Blowing Sand/Dirt               56\n",
      "Severe Crosswind                25\n",
      "Partly Cloudy                    5\n",
      "Name: weather, dtype: int64\n",
      "\n",
      "Dry               124510\n",
      "Wet                47474\n",
      "Unknown            15078\n",
      "Ice                 1209\n",
      "Snow/Slush          1004\n",
      "Other                132\n",
      "Standing Water       115\n",
      "Sand/Mud/Dirt         75\n",
      "Oil                   64\n",
      "Name: roadcond, dtype: int64\n",
      "\n",
      "Daylight                    116137\n",
      "Dark - Street Lights On      48507\n",
      "Unknown                      13473\n",
      "Dusk                          5902\n",
      "Dawn                          2502\n",
      "Dark - No Street Lights       1537\n",
      "Dark - Street Lights Off      1199\n",
      "Other                          235\n",
      "Dark - Unknown Lighting         11\n",
      "Name: lightcond, dtype: int64\n",
      "\n",
      "32    44421\n",
      "10    34674\n",
      "14    25771\n",
      "50    13554\n",
      "11    12777\n",
      "28    10324\n",
      "13     7629\n",
      "       4886\n",
      "45     4701\n",
      "23     4537\n",
      "15     3093\n",
      "16     2956\n",
      "0      2882\n",
      "20     2846\n",
      "12     2435\n",
      "22     2274\n",
      "2      2178\n",
      "21     1617\n",
      "30     1302\n",
      "1      1201\n",
      "71     1184\n",
      "26     1039\n",
      "81      835\n",
      "52      815\n",
      "19      720\n",
      "24      590\n",
      "5       416\n",
      "51      371\n",
      "74      343\n",
      "29      286\n",
      "6       257\n",
      "3       236\n",
      "27      231\n",
      "73      167\n",
      "25      132\n",
      "4       111\n",
      "57      108\n",
      "40      103\n",
      "84       94\n",
      "83       86\n",
      "72       73\n",
      "41       57\n",
      "64       50\n",
      "31       47\n",
      "82       35\n",
      "56       34\n",
      "48       32\n",
      "53       26\n",
      "8        23\n",
      "7        18\n",
      "66       11\n",
      "65       11\n",
      "42       11\n",
      "17        9\n",
      "67        9\n",
      "88        8\n",
      "54        7\n",
      "18        5\n",
      "43        2\n",
      "87        2\n",
      "49        1\n",
      "85        1\n",
      "60        1\n",
      "Name: st_colcode, dtype: int64\n",
      "\n",
      "0         191907\n",
      "6532          19\n",
      "6078          16\n",
      "12162         15\n",
      "10336         14\n",
      "           ...  \n",
      "35157          1\n",
      "10817          1\n",
      "15043          1\n",
      "525169         1\n",
      "16376          1\n",
      "Name: seglanekey, Length: 1955, dtype: int64\n",
      "\n",
      "0         190862\n",
      "523609        17\n",
      "520838        15\n",
      "525567        13\n",
      "521707        10\n",
      "           ...  \n",
      "521019         1\n",
      "630862         1\n",
      "25545          1\n",
      "523322         1\n",
      "27186          1\n",
      "Name: crosswalkkey, Length: 2198, dtype: int64\n",
      "\n",
      "0    187457\n",
      "1      7216\n",
      "Name: hitparkedcar, dtype: int64\n",
      "\n"
     ]
    }
   ],
   "source": [
    "for a in x:\n",
    "    print(df[a].value_counts())\n",
    "    print('')"
   ]
  },
  {
   "cell_type": "code",
   "execution_count": 187,
   "metadata": {},
   "outputs": [
    {
     "data": {
      "text/plain": [
       "<matplotlib.axes._subplots.AxesSubplot at 0x7fc36435ef10>"
      ]
     },
     "execution_count": 187,
     "metadata": {},
     "output_type": "execute_result"
    },
    {
     "data": {
      "image/png": "[encoded data removed]",
      "text/plain": [
       "<Figure size 432x288 with 1 Axes>"
      ]
     },
     "metadata": {
      "needs_background": "light"
     },
     "output_type": "display_data"
    }
   ],
   "source": [
    "sns.countplot(x='severitycode',data=df)"
   ]
  },
  {
   "cell_type": "code",
   "execution_count": 188,
   "metadata": {},
   "outputs": [
    {
     "data": {
      "text/plain": [
       "<matplotlib.axes._subplots.AxesSubplot at 0x7fc363e7a090>"
      ]
     },
     "execution_count": 188,
     "metadata": {},
     "output_type": "execute_result"
    },
    {
     "data": {
      "image/png": "[encoded data removed]",
      "text/plain": [
       "<Figure size 432x288 with 1 Axes>"
      ]
     },
     "metadata": {
      "needs_background": "light"
     },
     "output_type": "display_data"
    }
   ],
   "source": [
    "sns.countplot(x='addrtype',data=df)"
   ]
  },
  {
   "cell_type": "code",
   "execution_count": 219,
   "metadata": {},
   "outputs": [
    {
     "data": {
      "text/plain": [
       "<matplotlib.axes._subplots.AxesSubplot at 0x7fc373081710>"
      ]
     },
     "execution_count": 219,
     "metadata": {},
     "output_type": "execute_result"
    },
    {
     "data": {
      "image/png": "[encoded data removed]",
      "text/plain": [
       "<Figure size 1440x360 with 1 Axes>"
      ]
     },
     "metadata": {
      "needs_background": "light"
     },
     "output_type": "display_data"
    }
   ],
   "source": [
    "plt.figure(figsize=(20,5))\n",
    "sns.countplot(x='collisiontype',data=df)"
   ]
  },
  {
   "cell_type": "code",
   "execution_count": 193,
   "metadata": {},
   "outputs": [
    {
     "data": {
      "text/plain": [
       "<matplotlib.axes._subplots.AxesSubplot at 0x7fc36b233e50>"
      ]
     },
     "execution_count": 193,
     "metadata": {},
     "output_type": "execute_result"
    },
    {
     "data": {
      "image/png": "[encoded data removed]",
      "text/plain": [
       "<Figure size 432x288 with 1 Axes>"
      ]
     },
     "metadata": {
      "needs_background": "light"
     },
     "output_type": "display_data"
    }
   ],
   "source": [
    "sns.countplot(x='pedcount',data=df)"
   ]
  },
  {
   "cell_type": "code",
   "execution_count": 194,
   "metadata": {},
   "outputs": [
    {
     "data": {
      "text/plain": [
       "<matplotlib.axes._subplots.AxesSubplot at 0x7fc36b2b0350>"
      ]
     },
     "execution_count": 194,
     "metadata": {},
     "output_type": "execute_result"
    },
    {
     "data": {
      "image/png": "[encoded data removed]",
      "text/plain": [
       "<Figure size 432x288 with 1 Axes>"
      ]
     },
     "metadata": {
      "needs_background": "light"
     },
     "output_type": "display_data"
    }
   ],
   "source": [
    "sns.countplot(x='pedcylcount',data=df)"
   ]
  },
  {
   "cell_type": "code",
   "execution_count": 195,
   "metadata": {},
   "outputs": [],
   "source": [
    "x2=['severitycode','addrtype','collisiontype','pedcount', 'pedcylcount', 'vehcount', 'junctiontype','underinfl',\n",
    "       'weather', 'roadcond', 'lightcond']"
   ]
  },
  {
   "cell_type": "code",
   "execution_count": 196,
   "metadata": {},
   "outputs": [
    {
     "data": {
      "text/plain": [
       "<matplotlib.axes._subplots.AxesSubplot at 0x7fc36b18e4d0>"
      ]
     },
     "execution_count": 196,
     "metadata": {},
     "output_type": "execute_result"
    },
    {
     "data": {
      "image/png": "[encoded data removed]",
      "text/plain": [
       "<Figure size 432x288 with 1 Axes>"
      ]
     },
     "metadata": {
      "needs_background": "light"
     },
     "output_type": "display_data"
    }
   ],
   "source": [
    "sns.countplot(x='vehcount',data=df)"
   ]
  },
  {
   "cell_type": "code",
   "execution_count": 218,
   "metadata": {},
   "outputs": [
    {
     "data": {
      "text/plain": [
       "<matplotlib.axes._subplots.AxesSubplot at 0x7fc3734c6490>"
      ]
     },
     "execution_count": 218,
     "metadata": {},
     "output_type": "execute_result"
    },
    {
     "data": {
      "image/png": "[encoded data removed]",
      "text/plain": [
       "<Figure size 1440x360 with 1 Axes>"
      ]
     },
     "metadata": {
      "needs_background": "light"
     },
     "output_type": "display_data"
    }
   ],
   "source": [
    "plt.figure(figsize=(20,5))\n",
    "sns.countplot(x='junctiontype',data=df)"
   ]
  },
  {
   "cell_type": "code",
   "execution_count": 198,
   "metadata": {},
   "outputs": [
    {
     "data": {
      "text/plain": [
       "<matplotlib.axes._subplots.AxesSubplot at 0x7fc3645b5210>"
      ]
     },
     "execution_count": 198,
     "metadata": {},
     "output_type": "execute_result"
    },
    {
     "data": {
      "image/png": "[encoded data removed]",
      "text/plain": [
       "<Figure size 432x288 with 1 Axes>"
      ]
     },
     "metadata": {
      "needs_background": "light"
     },
     "output_type": "display_data"
    }
   ],
   "source": [
    "sns.countplot(x='underinfl',data=df)"
   ]
  },
  {
   "cell_type": "code",
   "execution_count": 217,
   "metadata": {},
   "outputs": [
    {
     "data": {
      "text/plain": [
       "<matplotlib.axes._subplots.AxesSubplot at 0x7fc373370cd0>"
      ]
     },
     "execution_count": 217,
     "metadata": {},
     "output_type": "execute_result"
    },
    {
     "data": {
      "image/png": "[encoded data removed]",
      "text/plain": [
       "<Figure size 1440x360 with 1 Axes>"
      ]
     },
     "metadata": {
      "needs_background": "light"
     },
     "output_type": "display_data"
    }
   ],
   "source": [
    "plt.figure(figsize=(20,5))\n",
    "sns.countplot(x='weather',data=df)"
   ]
  },
  {
   "cell_type": "code",
   "execution_count": 216,
   "metadata": {},
   "outputs": [
    {
     "data": {
      "text/plain": [
       "<matplotlib.axes._subplots.AxesSubplot at 0x7fc372e2a350>"
      ]
     },
     "execution_count": 216,
     "metadata": {},
     "output_type": "execute_result"
    },
    {
     "data": {
      "image/png": "[encoded data removed]",
      "text/plain": [
       "<Figure size 1440x360 with 1 Axes>"
      ]
     },
     "metadata": {
      "needs_background": "light"
     },
     "output_type": "display_data"
    }
   ],
   "source": [
    "plt.figure(figsize=(20,5))\n",
    "sns.countplot(x='roadcond',data=df)"
   ]
  },
  {
   "cell_type": "code",
   "execution_count": 220,
   "metadata": {},
   "outputs": [
    {
     "data": {
      "text/plain": [
       "<matplotlib.axes._subplots.AxesSubplot at 0x7fc3738c7f10>"
      ]
     },
     "execution_count": 220,
     "metadata": {},
     "output_type": "execute_result"
    },
    {
     "data": {
      "image/png": "[encoded data removed]",
      "text/plain": [
       "<Figure size 1440x360 with 1 Axes>"
      ]
     },
     "metadata": {
      "needs_background": "light"
     },
     "output_type": "display_data"
    }
   ],
   "source": [
    "plt.figure(figsize=(20,5))\n",
    "sns.countplot(x='lightcond',data=df)"
   ]
  },
  {
   "cell_type": "code",
   "execution_count": null,
   "metadata": {},
   "outputs": [],
   "source": []
  },
  {
   "cell_type": "code",
   "execution_count": null,
   "metadata": {},
   "outputs": [],
   "source": []
  },
  {
   "cell_type": "code",
   "execution_count": null,
   "metadata": {},
   "outputs": [],
   "source": []
  },
  {
   "cell_type": "code",
   "execution_count": null,
   "metadata": {},
   "outputs": [],
   "source": []
  },
  {
   "cell_type": "code",
   "execution_count": null,
   "metadata": {},
   "outputs": [],
   "source": []
  },
  {
   "cell_type": "code",
   "execution_count": null,
   "metadata": {},
   "outputs": [],
   "source": []
  },
  {
   "cell_type": "code",
   "execution_count": null,
   "metadata": {},
   "outputs": [],
   "source": []
  }
 ],
 "metadata": {
  "kernelspec": {
   "display_name": "Python 3",
   "language": "python",
   "name": "python3"
  },
  "language_info": {
   "codemirror_mode": {
    "name": "ipython",
    "version": 3
   },
   "file_extension": ".py",
   "mimetype": "text/x-python",
   "name": "python",
   "nbconvert_exporter": "python",
   "pygments_lexer": "ipython3",
   "version": "3.7.6"
  }
 },
 "nbformat": 4,
 "nbformat_minor": 4
}
